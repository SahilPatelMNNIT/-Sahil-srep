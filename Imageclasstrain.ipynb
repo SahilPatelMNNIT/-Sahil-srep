{
  "nbformat": 4,
  "nbformat_minor": 0,
  "metadata": {
    "colab": {
      "name": "Imageclasstrain.ipynb",
      "provenance": [],
      "collapsed_sections": [],
      "authorship_tag": "ABX9TyOADMa+GscATBjjkBumnL+G",
      "include_colab_link": true
    },
    "kernelspec": {
      "name": "python3",
      "display_name": "Python 3"
    }
  },
  "cells": [
    {
      "cell_type": "markdown",
      "metadata": {
        "id": "view-in-github",
        "colab_type": "text"
      },
      "source": [
        "<a href=\"https://colab.research.google.com/github/SahilPatelMNNIT/-Sahil-srep/blob/master/Imageclasstrain.ipynb\" target=\"_parent\"><img src=\"https://colab.research.google.com/assets/colab-badge.svg\" alt=\"Open In Colab\"/></a>"
      ]
    },
    {
      "cell_type": "code",
      "metadata": {
        "id": "obw0xXHeGsdn",
        "colab_type": "code",
        "colab": {}
      },
      "source": [
        "#import data\n",
        "from keras.datasets import cifar10\n",
        "(x_train,y_train),(x_test,y_test)= cifar10.load_data() "
      ],
      "execution_count": 0,
      "outputs": []
    },
    {
      "cell_type": "code",
      "metadata": {
        "id": "8iw8GwuLK8al",
        "colab_type": "code",
        "outputId": "0ce9df11-b750-4616-9064-3cb6e66627ba",
        "colab": {
          "base_uri": "https://localhost:8080/",
          "height": 85
        }
      },
      "source": [
        "print(type(x_train))\n",
        "print(type(y_train))\n",
        "print(type(x_test))\n",
        "print(type(y_test))"
      ],
      "execution_count": 0,
      "outputs": [
        {
          "output_type": "stream",
          "text": [
            "<class 'numpy.ndarray'>\n",
            "<class 'numpy.ndarray'>\n",
            "<class 'numpy.ndarray'>\n",
            "<class 'numpy.ndarray'>\n"
          ],
          "name": "stdout"
        }
      ]
    },
    {
      "cell_type": "code",
      "metadata": {
        "id": "R5vMzGFoLfbA",
        "colab_type": "code",
        "outputId": "335dc843-bb53-4cfd-ffd0-1d440b063314",
        "colab": {
          "base_uri": "https://localhost:8080/",
          "height": 85
        }
      },
      "source": [
        "print(\"x_train shape=\" , x_train.shape)\n",
        "print(\"y_train shape=\" , y_train.shape)\n",
        "print(\"x_test shape=\" , x_test.shape)\n",
        "print(\"y_test shape=\" , y_test.shape)"
      ],
      "execution_count": 0,
      "outputs": [
        {
          "output_type": "stream",
          "text": [
            "x_train shape= (50000, 32, 32, 3)\n",
            "y_train shape= (50000, 1)\n",
            "x_test shape= (10000, 32, 32, 3)\n",
            "y_test shape= (10000, 1)\n"
          ],
          "name": "stdout"
        }
      ]
    },
    {
      "cell_type": "code",
      "metadata": {
        "id": "pl-T4gm-OI2E",
        "colab_type": "code",
        "outputId": "9a129cde-507a-454c-9815-9ec750fbef05",
        "colab": {
          "base_uri": "https://localhost:8080/",
          "height": 850
        }
      },
      "source": [
        "x_train[0]"
      ],
      "execution_count": 0,
      "outputs": [
        {
          "output_type": "execute_result",
          "data": {
            "text/plain": [
              "array([[[ 59,  62,  63],\n",
              "        [ 43,  46,  45],\n",
              "        [ 50,  48,  43],\n",
              "        ...,\n",
              "        [158, 132, 108],\n",
              "        [152, 125, 102],\n",
              "        [148, 124, 103]],\n",
              "\n",
              "       [[ 16,  20,  20],\n",
              "        [  0,   0,   0],\n",
              "        [ 18,   8,   0],\n",
              "        ...,\n",
              "        [123,  88,  55],\n",
              "        [119,  83,  50],\n",
              "        [122,  87,  57]],\n",
              "\n",
              "       [[ 25,  24,  21],\n",
              "        [ 16,   7,   0],\n",
              "        [ 49,  27,   8],\n",
              "        ...,\n",
              "        [118,  84,  50],\n",
              "        [120,  84,  50],\n",
              "        [109,  73,  42]],\n",
              "\n",
              "       ...,\n",
              "\n",
              "       [[208, 170,  96],\n",
              "        [201, 153,  34],\n",
              "        [198, 161,  26],\n",
              "        ...,\n",
              "        [160, 133,  70],\n",
              "        [ 56,  31,   7],\n",
              "        [ 53,  34,  20]],\n",
              "\n",
              "       [[180, 139,  96],\n",
              "        [173, 123,  42],\n",
              "        [186, 144,  30],\n",
              "        ...,\n",
              "        [184, 148,  94],\n",
              "        [ 97,  62,  34],\n",
              "        [ 83,  53,  34]],\n",
              "\n",
              "       [[177, 144, 116],\n",
              "        [168, 129,  94],\n",
              "        [179, 142,  87],\n",
              "        ...,\n",
              "        [216, 184, 140],\n",
              "        [151, 118,  84],\n",
              "        [123,  92,  72]]], dtype=uint8)"
            ]
          },
          "metadata": {
            "tags": []
          },
          "execution_count": 17
        }
      ]
    },
    {
      "cell_type": "code",
      "metadata": {
        "id": "poyQ4H_EOzvZ",
        "colab_type": "code",
        "outputId": "184ff9ca-dd81-424e-be00-1b86c079c7b0",
        "colab": {
          "base_uri": "https://localhost:8080/",
          "height": 283
        }
      },
      "source": [
        "import matplotlib.pyplot as plt\n",
        "img = plt.imshow(x_train[1])\n",
        "print(y_train[1])"
      ],
      "execution_count": 0,
      "outputs": [
        {
          "output_type": "stream",
          "text": [
            "[9]\n"
          ],
          "name": "stdout"
        },
        {
          "output_type": "display_data",
          "data": {
            "image/png": "[encoded data removed]",
            "text/plain": [
              "<Figure size 432x288 with 1 Axes>"
            ]
          },
          "metadata": {
            "tags": []
          }
        }
      ]
    },
    {
      "cell_type": "code",
      "metadata": {
        "id": "6dYfgBQzP3iQ",
        "colab_type": "code",
        "colab": {}
      },
      "source": [
        "from keras.utils import to_categorical\n",
        "y_rtrain=to_categorical(y_train)\n",
        "y_rtest=to_categorical(y_test)\n",
        "\n",
        "  "
      ],
      "execution_count": 0,
      "outputs": []
    },
    {
      "cell_type": "code",
      "metadata": {
        "id": "ygpL4la9o1s9",
        "colab_type": "code",
        "colab": {}
      },
      "source": [
        "x_train=x_train/255\n",
        "x_test=x_test/255\n"
      ],
      "execution_count": 0,
      "outputs": []
    },
    {
      "cell_type": "code",
      "metadata": {
        "id": "mBl5wHSdj3EN",
        "colab_type": "code",
        "colab": {}
      },
      "source": [
        "from keras.models import Sequential\n",
        "from keras.layers import Dense,Flatten,Conv2D,MaxPooling2D\n",
        "model=Sequential()\n",
        "model.add( Conv2D (32 ,(5,5),activation='relu', input_shape=(32,32,3)))\n",
        "model.add( MaxPooling2D(pool_size=(2,2)))\n",
        "model.add( Conv2D(32,(5,5),activation='relu'))\n",
        "model.add( MaxPooling2D(pool_size=(2,2)))\n",
        "model.add(Flatten())\n",
        "model.add(Dense(1000,activation='relu'))\n",
        "model.add(Dense(10,activation='softmax'))\n",
        "\n"
      ],
      "execution_count": 0,
      "outputs": []
    },
    {
      "cell_type": "code",
      "metadata": {
        "id": "WSdR2TWo3Hbr",
        "colab_type": "code",
        "colab": {}
      },
      "source": [
        "model.compile(loss='categorical_crossentropy',optimizer='adam',metrics=['accuracy'])\n"
      ],
      "execution_count": 0,
      "outputs": []
    },
    {
      "cell_type": "code",
      "metadata": {
        "id": "1h6UYVoY39qJ",
        "colab_type": "code",
        "outputId": "b72265a8-065c-44d8-e6ce-d948726208e4",
        "colab": {
          "base_uri": "https://localhost:8080/",
          "height": 374
        }
      },
      "source": [
        "hist=model.fit(x_train,y_rtrain,batch_size=256,epochs=10,validation_split=0.3)"
      ],
      "execution_count": 0,
      "outputs": [
        {
          "output_type": "stream",
          "text": [
            "Train on 35000 samples, validate on 15000 samples\n",
            "Epoch 1/10\n",
            "35000/35000 [==============================] - 56s 2ms/step - loss: 1.6992 - acc: 0.3807 - val_loss: 1.5026 - val_acc: 0.4515\n",
            "Epoch 2/10\n",
            "35000/35000 [==============================] - 55s 2ms/step - loss: 1.3538 - acc: 0.5135 - val_loss: 1.3080 - val_acc: 0.5268\n",
            "Epoch 3/10\n",
            "35000/35000 [==============================] - 56s 2ms/step - loss: 1.2064 - acc: 0.5689 - val_loss: 1.1829 - val_acc: 0.5805\n",
            "Epoch 4/10\n",
            "35000/35000 [==============================] - 55s 2ms/step - loss: 1.1098 - acc: 0.6072 - val_loss: 1.1242 - val_acc: 0.6044\n",
            "Epoch 5/10\n",
            "35000/35000 [==============================] - 55s 2ms/step - loss: 1.0318 - acc: 0.6365 - val_loss: 1.0780 - val_acc: 0.6241\n",
            "Epoch 6/10\n",
            "35000/35000 [==============================] - 55s 2ms/step - loss: 0.9556 - acc: 0.6670 - val_loss: 1.0475 - val_acc: 0.6368\n",
            "Epoch 7/10\n",
            "35000/35000 [==============================] - 55s 2ms/step - loss: 0.8792 - acc: 0.6912 - val_loss: 1.0338 - val_acc: 0.6399\n",
            "Epoch 8/10\n",
            "35000/35000 [==============================] - 55s 2ms/step - loss: 0.8057 - acc: 0.7196 - val_loss: 0.9927 - val_acc: 0.6585\n",
            "Epoch 9/10\n",
            "35000/35000 [==============================] - 54s 2ms/step - loss: 0.7505 - acc: 0.7371 - val_loss: 0.9676 - val_acc: 0.6653\n",
            "Epoch 10/10\n",
            "35000/35000 [==============================] - 54s 2ms/step - loss: 0.6831 - acc: 0.7640 - val_loss: 0.9873 - val_acc: 0.6686\n"
          ],
          "name": "stdout"
        }
      ]
    },
    {
      "cell_type": "code",
      "metadata": {
        "id": "wfBcK3accuFH",
        "colab_type": "code",
        "outputId": "092aba0d-a1ec-42cf-f562-a54f35e13275",
        "colab": {
          "base_uri": "https://localhost:8080/",
          "height": 51
        }
      },
      "source": [
        "model.evaluate(x_test,y_rtest)[1]"
      ],
      "execution_count": 0,
      "outputs": [
        {
          "output_type": "stream",
          "text": [
            "10000/10000 [==============================] - 5s 491us/step\n"
          ],
          "name": "stdout"
        },
        {
          "output_type": "execute_result",
          "data": {
            "text/plain": [
              "0.6636"
            ]
          },
          "metadata": {
            "tags": []
          },
          "execution_count": 24
        }
      ]
    },
    {
      "cell_type": "code",
      "metadata": {
        "id": "Vi2irts1cxEl",
        "colab_type": "code",
        "outputId": "50ddab98-8594-4354-f578-3862b21f7bb8",
        "colab": {
          "base_uri": "https://localhost:8080/",
          "height": 312
        }
      },
      "source": [
        "plt.plot(hist.history['acc'])\n",
        "plt.plot(hist.history['val_acc'])\n",
        "plt.title('accuray')\n",
        "plt.xlabel('epoch')\n",
        "plt.ylabel('accuracy')"
      ],
      "execution_count": 0,
      "outputs": [
        {
          "output_type": "execute_result",
          "data": {
            "text/plain": [
              "Text(0, 0.5, 'accuracy')"
            ]
          },
          "metadata": {
            "tags": []
          },
          "execution_count": 26
        },
        {
          "output_type": "display_data",
          "data": {
            "image/png": "[encoded data removed]",
            "text/plain": [
              "<Figure size 432x288 with 1 Axes>"
            ]
          },
          "metadata": {
            "tags": []
          }
        }
      ]
    }
  ]
}